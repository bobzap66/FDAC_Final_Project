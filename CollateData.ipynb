{
 "cells": [
  {
   "cell_type": "code",
   "execution_count": 120,
   "metadata": {
    "scrolled": false
   },
   "outputs": [
    {
     "name": "stdout",
     "output_type": "stream",
     "text": [
      "There were 7 donations and the average donation for the totals is $ 678.57\n",
      "stdDev = 295.03 and variance is 87040.82\n",
      "CID, Party, 0 to 383.54, 383.54 to 531.06, 531.06 to 826.08, 826.08 to 973.60, over 973.60\n",
      "\n",
      "4321, D, 0.00, 0.00, 44.44, 0.00, 55.56\n",
      "\n",
      "1234, R, 0.00, 17.24, 51.72, 31.03, 0.00\n",
      "\n",
      "5678, ?, 100.00, 0.00, 0.00, 0.00, 0.00\n",
      "\n"
     ]
    }
   ],
   "source": [
    "import pandas as pd\n",
    "from collections import defaultdict\n",
    "\n",
    "\n",
    "\n",
    "df = pd.read_csv('testData.csv')\n",
    "\n",
    "cnt = 0\n",
    "totalSum = 0\n",
    "totalAvg = 0\n",
    "p = defaultdict()\n",
    "d = defaultdict(list)\n",
    "for row in df.iterrows():\n",
    "    r = row[1]\n",
    "    d[r[0]].append(r[1])\n",
    "    p[r[0]] = r[2].split()[0]\n",
    "    cnt = cnt + 1\n",
    "    totalSum = totalSum + r[1]\n",
    "    \n",
    "    \n",
    "totalAvg = totalSum / cnt\n",
    "\n",
    "for k in d.keys():\n",
    "    s = sum(d[k])\n",
    "    avg = s/len(d[k])\n",
    "\n",
    "print(\"There were\", cnt, \"donations and the average donation for the totals is $\", '%.2f' % totalAvg)\n",
    "tmp = 0\n",
    "diff = 0\n",
    "sumSqDiff = 0\n",
    "for k in d.keys():\n",
    "    for x in d[k]:    \n",
    "        diff = x - totalAvg\n",
    "        diffSq = diff * diff\n",
    "        sumSqDiff = sumSqDiff + diffSq\n",
    "variance = sumSqDiff/cnt\n",
    "stdDev = variance**(1/2.0)\n",
    "\n",
    "print(\"stdDev =\", '%.2f' %stdDev, \"and variance is\", '%.2f' %variance)\n",
    "\n",
    "benchmark1 = totalAvg - stdDev\n",
    "benchmark2 = totalAvg - (0.5*stdDev)\n",
    "benchmark3 = totalAvg + (0.5*stdDev)\n",
    "benchmark4 = totalAvg + stdDev\n",
    "\"\"\"\n",
    "print(\"The ranges are from 0 to \", '%.2f' %benchmark1, \",\", '%.2f' % benchmark1, \"to \", '%.2f' %benchmark2, \",\", '%.2f' %benchmark2, '%.2f' %benchmark3, \",\", '%.2f' %benchmark3,\"to\", '%.2f' %benchmark4, \", and over\", '%.2f' %benchmark4 )\n",
    "\"\"\"\n",
    "f = open('dataOutput.csv', 'w') \n",
    "tmpStrg = \"CID, Party, 0 to \" + str('%.2f' %benchmark1) + \", \" + str('%.2f' %benchmark1) + \" to \" + str('%.2f' %benchmark2) + \", \" + str('%.2f' %benchmark2) + \" to \" + str('%.2f' %benchmark3) + \", \" + str('%.2f' %benchmark3) + \" to \" +str('%.2f' %benchmark4) + \", over \" + str('%.2f' %benchmark4) + '\\n'\n",
    "print(tmpStrg)\n",
    "f.write(tmpStrg)\n",
    "\n",
    "for k in d.keys():\n",
    "    amnts=[0 for i in range(5)]\n",
    "    prcntg=[0 for i in range(5)]\n",
    "    tmpSum=0\n",
    "    for x in d[k]:\n",
    "        if x < benchmark1:\n",
    "            amnts[0] = amnts[0] + x\n",
    "        elif x < benchmark2:\n",
    "            amnts[1] = amnts[1] + x\n",
    "        elif x < benchmark3:\n",
    "            amnts[2] = amnts[2] + x\n",
    "        elif x < benchmark4:\n",
    "            amnts[3] = amnts[3] + x\n",
    "        else:\n",
    "            amnts[4] = amnts[4] + x\n",
    "    tmpSum = sum(amnts)\n",
    "    cnt = 0\n",
    "    tmpStrg = str(k) + ', ' + str(p[k])\n",
    "    for i in amnts:\n",
    "        prcntg[cnt] = i/tmpSum*100\n",
    "        tmpStrg += \", \" \n",
    "        tmpStrg += str('%.2f' %prcntg[cnt])\n",
    "        cnt = cnt + 1\n",
    "    tmpStrg += '\\n'\n",
    "    f.write(tmpStrg)\n",
    "    print(tmpStrg)\n",
    "f.close()\n"
   ]
  },
  {
   "cell_type": "code",
   "execution_count": null,
   "metadata": {
    "collapsed": true
   },
   "outputs": [],
   "source": []
  },
  {
   "cell_type": "code",
   "execution_count": null,
   "metadata": {
    "collapsed": true
   },
   "outputs": [],
   "source": []
  }
 ],
 "metadata": {
  "kernelspec": {
   "display_name": "Python 3",
   "language": "python",
   "name": "python3"
  },
  "language_info": {
   "codemirror_mode": {
    "name": "ipython",
    "version": 3
   },
   "file_extension": ".py",
   "mimetype": "text/x-python",
   "name": "python",
   "nbconvert_exporter": "python",
   "pygments_lexer": "ipython3",
   "version": "3.5.2"
  }
 },
 "nbformat": 4,
 "nbformat_minor": 2
}
