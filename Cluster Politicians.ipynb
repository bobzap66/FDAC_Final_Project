{
 "cells": [
  {
   "cell_type": "code",
   "execution_count": 16,
   "metadata": {
    "collapsed": true
   },
   "outputs": [],
   "source": [
    "import pandas as pd\n",
    "from sklearn.cluster import KMeans\n",
    "import matplotlib.pyplot as plt\n",
    "import numpy as np"
   ]
  },
  {
   "cell_type": "code",
   "execution_count": 12,
   "metadata": {},
   "outputs": [
    {
     "data": {
      "text/html": [
       "<div>\n",
       "<style>\n",
       "    .dataframe thead tr:only-child th {\n",
       "        text-align: right;\n",
       "    }\n",
       "\n",
       "    .dataframe thead th {\n",
       "        text-align: left;\n",
       "    }\n",
       "\n",
       "    .dataframe tbody tr th {\n",
       "        vertical-align: top;\n",
       "    }\n",
       "</style>\n",
       "<table border=\"1\" class=\"dataframe\">\n",
       "  <thead>\n",
       "    <tr style=\"text-align: right;\">\n",
       "      <th></th>\n",
       "      <th>CID</th>\n",
       "      <th>Party</th>\n",
       "      <th>0 to 580.49</th>\n",
       "      <th>580.49 to 1526.17</th>\n",
       "      <th>1526.17 to 4012.47</th>\n",
       "      <th>4012.47 to 10549.24</th>\n",
       "      <th>over 10549.24</th>\n",
       "    </tr>\n",
       "  </thead>\n",
       "  <tbody>\n",
       "    <tr>\n",
       "      <th>0</th>\n",
       "      <td>N00028958</td>\n",
       "      <td>R</td>\n",
       "      <td>5.01</td>\n",
       "      <td>54.39</td>\n",
       "      <td>34.65</td>\n",
       "      <td>5.94</td>\n",
       "      <td>0.00</td>\n",
       "    </tr>\n",
       "    <tr>\n",
       "      <th>1</th>\n",
       "      <td>N00027860</td>\n",
       "      <td>D</td>\n",
       "      <td>5.57</td>\n",
       "      <td>60.23</td>\n",
       "      <td>26.58</td>\n",
       "      <td>7.62</td>\n",
       "      <td>0.00</td>\n",
       "    </tr>\n",
       "    <tr>\n",
       "      <th>2</th>\n",
       "      <td>N00031681</td>\n",
       "      <td>R</td>\n",
       "      <td>6.79</td>\n",
       "      <td>49.32</td>\n",
       "      <td>35.24</td>\n",
       "      <td>8.65</td>\n",
       "      <td>0.00</td>\n",
       "    </tr>\n",
       "    <tr>\n",
       "      <th>3</th>\n",
       "      <td>N00035825</td>\n",
       "      <td>D</td>\n",
       "      <td>7.87</td>\n",
       "      <td>32.44</td>\n",
       "      <td>31.54</td>\n",
       "      <td>26.99</td>\n",
       "      <td>1.15</td>\n",
       "    </tr>\n",
       "    <tr>\n",
       "      <th>4</th>\n",
       "      <td>N00027509</td>\n",
       "      <td>R</td>\n",
       "      <td>3.09</td>\n",
       "      <td>59.98</td>\n",
       "      <td>31.81</td>\n",
       "      <td>5.12</td>\n",
       "      <td>0.00</td>\n",
       "    </tr>\n",
       "  </tbody>\n",
       "</table>\n",
       "</div>"
      ],
      "text/plain": [
       "         CID  Party   0 to 580.49   580.49 to 1526.17   1526.17 to 4012.47  \\\n",
       "0  N00028958      R          5.01               54.39                34.65   \n",
       "1  N00027860      D          5.57               60.23                26.58   \n",
       "2  N00031681      R          6.79               49.32                35.24   \n",
       "3  N00035825      D          7.87               32.44                31.54   \n",
       "4  N00027509      R          3.09               59.98                31.81   \n",
       "\n",
       "    4012.47 to 10549.24   over 10549.24  \n",
       "0                  5.94            0.00  \n",
       "1                  7.62            0.00  \n",
       "2                  8.65            0.00  \n",
       "3                 26.99            1.15  \n",
       "4                  5.12            0.00  "
      ]
     },
     "execution_count": 12,
     "metadata": {},
     "output_type": "execute_result"
    }
   ],
   "source": [
    "df = pd.read_csv(\"PoliticianDonationProfile.csv\")\n",
    "df.head()"
   ]
  },
  {
   "cell_type": "markdown",
   "metadata": {},
   "source": [
    "## Selecting a k value\n",
    "We'd like to cluster our data to view voting behavior in aggreate. We want enough clusters to effectively capture distinct groups, while still allowing us to have substantial clusters."
   ]
  },
  {
   "cell_type": "code",
   "execution_count": 33,
   "metadata": {},
   "outputs": [
    {
     "name": "stdout",
     "output_type": "stream",
     "text": [
      "[274  72]\n",
      "[72, 274]\n",
      "[163  66 117]\n",
      "[66, 117, 163]\n",
      "[165  59 115   7]\n",
      "[7, 59, 115, 165]\n",
      "[134  23  41   7 141]\n",
      "[7, 23, 41, 134, 141]\n",
      "[123  38   7  92  65  21]\n",
      "[7, 21, 38, 65, 92, 123]\n",
      "[ 65  92  17 123   6   1  42]\n",
      "[1, 6, 17, 42, 65, 92, 123]\n",
      "[37 36 98 12 17 59  1 86]\n",
      "[1, 12, 17, 36, 37, 59, 86, 98]\n",
      "[88 25 58  1 98 35  6 25 10]\n",
      "[1, 6, 10, 25, 25, 35, 58, 88, 98]\n",
      "[67 16 74 12  1 86 17 46 21  6]\n",
      "[1, 6, 12, 16, 17, 21, 46, 67, 74, 86]\n",
      "[87 15 63 18 68 26  6 16  9  1 37]\n",
      "[1, 6, 9, 15, 16, 18, 26, 37, 63, 68, 87]\n",
      "[82 17 13 75 52 29  1  6  6 17 12 36]\n",
      "[1, 6, 6, 12, 13, 17, 17, 29, 36, 52, 75, 82]\n",
      "[36 14 52 37  1  6  6 72  4 16 76 14 12]\n",
      "[1, 4, 6, 6, 12, 14, 14, 16, 36, 37, 52, 72, 76]\n",
      "[71 11 13 33 36 59  6  1  4 42 17 15  6 32]\n",
      "[1, 4, 6, 6, 11, 13, 15, 17, 32, 33, 36, 42, 59, 71]\n",
      "[ 6 40 18 37  9 26  1 27 55 13  8 67 12  4 23]\n",
      "[1, 4, 6, 8, 9, 12, 13, 18, 23, 26, 27, 37, 40, 55, 67]\n",
      "[ 6 70 15 31 13 14 29 38  6 14 53  1 41  1 11  3]\n",
      "[1, 1, 3, 6, 6, 11, 13, 14, 14, 15, 29, 31, 38, 41, 53, 70]\n",
      "[51 15  9 36 15  1 37  6 29  9 31 10  3 60 21  1 12]\n",
      "[1, 1, 3, 6, 9, 9, 10, 12, 15, 15, 21, 29, 31, 36, 37, 51, 60]\n",
      "[12 55 21  3 22 26 13  1 31  6 13 38 47 16 25  3 10  4]\n",
      "[1, 3, 3, 4, 6, 10, 12, 13, 13, 16, 21, 22, 25, 26, 31, 38, 47, 55]\n",
      "[ 3 36  5 26  7  6 15 21  1 29 24  5 10 42 15 10  4 28 59]\n",
      "[1, 3, 4, 5, 5, 6, 7, 10, 10, 15, 15, 21, 24, 26, 28, 29, 36, 42, 59]\n"
     ]
    },
    {
     "data": {
      "image/png": "[encoded data removed]",
      "text/plain": [
       "<matplotlib.figure.Figure at 0x1167d5c50>"
      ]
     },
     "metadata": {},
     "output_type": "display_data"
    },
    {
     "name": "stdout",
     "output_type": "stream",
     "text": [
      "[None, None, 72.0, 66.0, 7.0, 7.0, 7.0, 1.0, 1.0, 1.0, 1.0, 1.0, 1.0, 1.0, 1.0, 1.0, 1.0, 1.0, 1.0, 1.0]\n"
     ]
    },
    {
     "data": {
      "image/png": "[encoded data removed]",
      "text/plain": [
       "<matplotlib.figure.Figure at 0x11701d320>"
      ]
     },
     "metadata": {},
     "output_type": "display_data"
    }
   ],
   "source": [
    "performance = [None, None]\n",
    "min_cluster_size = [None, None]\n",
    "for i in range(2, 20):\n",
    "    kmeans = KMeans(n_clusters=i)\n",
    "    labels = kmeans.fit_predict(df[df.columns[2:]])\n",
    "    unique_label, counts = np.unique(labels, return_counts=True)\n",
    "    print(counts)\n",
    "    print(sorted(counts))\n",
    "    min_cluster_size.append(np.mean(sorted(counts)[0]))\n",
    "    performance.append(kmeans.score(df[df.columns[2:]]))\n",
    "plt.style.use(\"ggplot\")\n",
    "plt.plot(performance, lw=5)\n",
    "plt.title(\"Performance vs K clusters\")\n",
    "plt.ylabel(\"Performance\")\n",
    "plt.xlabel(\"K\")\n",
    "plt.show()\n",
    "print(min_cluster_size)\n",
    "plt.plot(min_cluster_size, lw=5)\n",
    "plt.title(\"Minimum Cluster Size vs K clusters\")\n",
    "plt.ylabel(\"Minimum Cluster Size\")\n",
    "plt.xlabel(\"K\")\n",
    "plt.show()"
   ]
  },
  {
   "cell_type": "markdown",
   "metadata": {},
   "source": [
    "## Selecting a K value (cont)\n",
    "So we see performance rising quickly as we add the first few clusters; but we also see as we get past 7 clusters, the smallest cluster size is 1. This basically means at that point we're overfitting our clusters, and it's nonsensical to compare the voting record of a single politician with that of another if our goal is to see overarching trends. In fact, we really don't get consistent substantial clusters thorughout at any value beyond 3--so this will be our selected K value."
   ]
  },
  {
   "cell_type": "code",
   "execution_count": 34,
   "metadata": {
    "collapsed": true
   },
   "outputs": [],
   "source": [
    "kmeans = KMeans(n_clusters=3)\n",
    "df['ClusterID'] = kmeans.fit_predict(df[df.columns[2:]])\n",
    "df = df[['CID', 'ClusterID']]"
   ]
  },
  {
   "cell_type": "code",
   "execution_count": null,
   "metadata": {
    "collapsed": true
   },
   "outputs": [],
   "source": [
    "d"
   ]
  }
 ],
 "metadata": {
  "kernelspec": {
   "display_name": "Python [conda root]",
   "language": "python",
   "name": "conda-root-py"
  },
  "language_info": {
   "codemirror_mode": {
    "name": "ipython",
    "version": 3
   },
   "file_extension": ".py",
   "mimetype": "text/x-python",
   "name": "python",
   "nbconvert_exporter": "python",
   "pygments_lexer": "ipython3",
   "version": "3.5.2"
  }
 },
 "nbformat": 4,
 "nbformat_minor": 2
}
